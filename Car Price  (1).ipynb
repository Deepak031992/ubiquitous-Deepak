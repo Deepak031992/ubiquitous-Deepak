{
 "cells": [
  {
   "cell_type": "code",
   "execution_count": 1,
   "id": "d4c5ef10-2717-462d-86fc-a4c4279438a9",
   "metadata": {},
   "outputs": [],
   "source": [
    "import pandas as pd\n",
    "import numpy as np\n",
    "import matplotlib.pyplot as plt\n",
    "from numpy import arange\n",
    "from sklearn import model_selection\n",
    "from sklearn.linear_model import LinearRegression\n",
    "from sklearn.linear_model import Ridge, Lasso, RidgeCV, LassoCV\n",
    "from sklearn.model_selection import cross_val_score\n",
    "from sklearn.preprocessing import StandardScaler\n",
    "from sklearn.metrics import mean_squared_error"
   ]
  },
  {
   "cell_type": "code",
   "execution_count": 4,
   "id": "7a9a8856-fc3c-4d7f-bc82-79733380c9ef",
   "metadata": {},
   "outputs": [
    {
     "name": "stdout",
     "output_type": "stream",
     "text": [
      "(205, 26)\n"
     ]
    },
    {
     "data": {
      "text/html": [
       "<div>\n",
       "<style scoped>\n",
       "    .dataframe tbody tr th:only-of-type {\n",
       "        vertical-align: middle;\n",
       "    }\n",
       "\n",
       "    .dataframe tbody tr th {\n",
       "        vertical-align: top;\n",
       "    }\n",
       "\n",
       "    .dataframe thead th {\n",
       "        text-align: right;\n",
       "    }\n",
       "</style>\n",
       "<table border=\"1\" class=\"dataframe\">\n",
       "  <thead>\n",
       "    <tr style=\"text-align: right;\">\n",
       "      <th></th>\n",
       "      <th>car_ID</th>\n",
       "      <th>symboling</th>\n",
       "      <th>CarName</th>\n",
       "      <th>fueltype</th>\n",
       "      <th>aspiration</th>\n",
       "      <th>doornumber</th>\n",
       "      <th>carbody</th>\n",
       "      <th>drivewheel</th>\n",
       "      <th>enginelocation</th>\n",
       "      <th>wheelbase</th>\n",
       "      <th>...</th>\n",
       "      <th>enginesize</th>\n",
       "      <th>fuelsystem</th>\n",
       "      <th>boreratio</th>\n",
       "      <th>stroke</th>\n",
       "      <th>compressionratio</th>\n",
       "      <th>horsepower</th>\n",
       "      <th>peakrpm</th>\n",
       "      <th>citympg</th>\n",
       "      <th>highwaympg</th>\n",
       "      <th>price</th>\n",
       "    </tr>\n",
       "  </thead>\n",
       "  <tbody>\n",
       "    <tr>\n",
       "      <th>0</th>\n",
       "      <td>1</td>\n",
       "      <td>3</td>\n",
       "      <td>alfa-romero giulia</td>\n",
       "      <td>gas</td>\n",
       "      <td>std</td>\n",
       "      <td>two</td>\n",
       "      <td>convertible</td>\n",
       "      <td>rwd</td>\n",
       "      <td>front</td>\n",
       "      <td>88.6</td>\n",
       "      <td>...</td>\n",
       "      <td>130</td>\n",
       "      <td>mpfi</td>\n",
       "      <td>3.47</td>\n",
       "      <td>2.68</td>\n",
       "      <td>9.0</td>\n",
       "      <td>111</td>\n",
       "      <td>5000</td>\n",
       "      <td>21</td>\n",
       "      <td>27</td>\n",
       "      <td>13495.0</td>\n",
       "    </tr>\n",
       "    <tr>\n",
       "      <th>1</th>\n",
       "      <td>2</td>\n",
       "      <td>3</td>\n",
       "      <td>alfa-romero stelvio</td>\n",
       "      <td>gas</td>\n",
       "      <td>std</td>\n",
       "      <td>two</td>\n",
       "      <td>convertible</td>\n",
       "      <td>rwd</td>\n",
       "      <td>front</td>\n",
       "      <td>88.6</td>\n",
       "      <td>...</td>\n",
       "      <td>130</td>\n",
       "      <td>mpfi</td>\n",
       "      <td>3.47</td>\n",
       "      <td>2.68</td>\n",
       "      <td>9.0</td>\n",
       "      <td>111</td>\n",
       "      <td>5000</td>\n",
       "      <td>21</td>\n",
       "      <td>27</td>\n",
       "      <td>16500.0</td>\n",
       "    </tr>\n",
       "    <tr>\n",
       "      <th>2</th>\n",
       "      <td>3</td>\n",
       "      <td>1</td>\n",
       "      <td>alfa-romero Quadrifoglio</td>\n",
       "      <td>gas</td>\n",
       "      <td>std</td>\n",
       "      <td>two</td>\n",
       "      <td>hatchback</td>\n",
       "      <td>rwd</td>\n",
       "      <td>front</td>\n",
       "      <td>94.5</td>\n",
       "      <td>...</td>\n",
       "      <td>152</td>\n",
       "      <td>mpfi</td>\n",
       "      <td>2.68</td>\n",
       "      <td>3.47</td>\n",
       "      <td>9.0</td>\n",
       "      <td>154</td>\n",
       "      <td>5000</td>\n",
       "      <td>19</td>\n",
       "      <td>26</td>\n",
       "      <td>16500.0</td>\n",
       "    </tr>\n",
       "    <tr>\n",
       "      <th>3</th>\n",
       "      <td>4</td>\n",
       "      <td>2</td>\n",
       "      <td>audi 100 ls</td>\n",
       "      <td>gas</td>\n",
       "      <td>std</td>\n",
       "      <td>four</td>\n",
       "      <td>sedan</td>\n",
       "      <td>fwd</td>\n",
       "      <td>front</td>\n",
       "      <td>99.8</td>\n",
       "      <td>...</td>\n",
       "      <td>109</td>\n",
       "      <td>mpfi</td>\n",
       "      <td>3.19</td>\n",
       "      <td>3.40</td>\n",
       "      <td>10.0</td>\n",
       "      <td>102</td>\n",
       "      <td>5500</td>\n",
       "      <td>24</td>\n",
       "      <td>30</td>\n",
       "      <td>13950.0</td>\n",
       "    </tr>\n",
       "    <tr>\n",
       "      <th>4</th>\n",
       "      <td>5</td>\n",
       "      <td>2</td>\n",
       "      <td>audi 100ls</td>\n",
       "      <td>gas</td>\n",
       "      <td>std</td>\n",
       "      <td>four</td>\n",
       "      <td>sedan</td>\n",
       "      <td>4wd</td>\n",
       "      <td>front</td>\n",
       "      <td>99.4</td>\n",
       "      <td>...</td>\n",
       "      <td>136</td>\n",
       "      <td>mpfi</td>\n",
       "      <td>3.19</td>\n",
       "      <td>3.40</td>\n",
       "      <td>8.0</td>\n",
       "      <td>115</td>\n",
       "      <td>5500</td>\n",
       "      <td>18</td>\n",
       "      <td>22</td>\n",
       "      <td>17450.0</td>\n",
       "    </tr>\n",
       "  </tbody>\n",
       "</table>\n",
       "<p>5 rows × 26 columns</p>\n",
       "</div>"
      ],
      "text/plain": [
       "   car_ID  symboling                   CarName fueltype aspiration doornumber  \\\n",
       "0       1          3        alfa-romero giulia      gas        std        two   \n",
       "1       2          3       alfa-romero stelvio      gas        std        two   \n",
       "2       3          1  alfa-romero Quadrifoglio      gas        std        two   \n",
       "3       4          2               audi 100 ls      gas        std       four   \n",
       "4       5          2                audi 100ls      gas        std       four   \n",
       "\n",
       "       carbody drivewheel enginelocation  wheelbase  ...  enginesize  \\\n",
       "0  convertible        rwd          front       88.6  ...         130   \n",
       "1  convertible        rwd          front       88.6  ...         130   \n",
       "2    hatchback        rwd          front       94.5  ...         152   \n",
       "3        sedan        fwd          front       99.8  ...         109   \n",
       "4        sedan        4wd          front       99.4  ...         136   \n",
       "\n",
       "   fuelsystem  boreratio  stroke compressionratio horsepower  peakrpm citympg  \\\n",
       "0        mpfi       3.47    2.68              9.0        111     5000      21   \n",
       "1        mpfi       3.47    2.68              9.0        111     5000      21   \n",
       "2        mpfi       2.68    3.47              9.0        154     5000      19   \n",
       "3        mpfi       3.19    3.40             10.0        102     5500      24   \n",
       "4        mpfi       3.19    3.40              8.0        115     5500      18   \n",
       "\n",
       "   highwaympg    price  \n",
       "0          27  13495.0  \n",
       "1          27  16500.0  \n",
       "2          26  16500.0  \n",
       "3          30  13950.0  \n",
       "4          22  17450.0  \n",
       "\n",
       "[5 rows x 26 columns]"
      ]
     },
     "execution_count": 4,
     "metadata": {},
     "output_type": "execute_result"
    }
   ],
   "source": [
    "df = pd.read_csv('CarPrice_Assignment.csv')\n",
    "print(df.shape)\n",
    "df.head()"
   ]
  },
  {
   "cell_type": "code",
   "execution_count": 5,
   "id": "f22c87ae-855d-4a73-9017-8ff127030469",
   "metadata": {},
   "outputs": [
    {
     "name": "stdout",
     "output_type": "stream",
     "text": [
      "(205, 191)\n"
     ]
    },
    {
     "data": {
      "text/html": [
       "<div>\n",
       "<style scoped>\n",
       "    .dataframe tbody tr th:only-of-type {\n",
       "        vertical-align: middle;\n",
       "    }\n",
       "\n",
       "    .dataframe tbody tr th {\n",
       "        vertical-align: top;\n",
       "    }\n",
       "\n",
       "    .dataframe thead th {\n",
       "        text-align: right;\n",
       "    }\n",
       "</style>\n",
       "<table border=\"1\" class=\"dataframe\">\n",
       "  <thead>\n",
       "    <tr style=\"text-align: right;\">\n",
       "      <th></th>\n",
       "      <th>car_ID</th>\n",
       "      <th>symboling</th>\n",
       "      <th>wheelbase</th>\n",
       "      <th>carlength</th>\n",
       "      <th>carwidth</th>\n",
       "      <th>carheight</th>\n",
       "      <th>curbweight</th>\n",
       "      <th>enginesize</th>\n",
       "      <th>boreratio</th>\n",
       "      <th>stroke</th>\n",
       "      <th>...</th>\n",
       "      <th>cylindernumber_three</th>\n",
       "      <th>cylindernumber_twelve</th>\n",
       "      <th>cylindernumber_two</th>\n",
       "      <th>fuelsystem_2bbl</th>\n",
       "      <th>fuelsystem_4bbl</th>\n",
       "      <th>fuelsystem_idi</th>\n",
       "      <th>fuelsystem_mfi</th>\n",
       "      <th>fuelsystem_mpfi</th>\n",
       "      <th>fuelsystem_spdi</th>\n",
       "      <th>fuelsystem_spfi</th>\n",
       "    </tr>\n",
       "  </thead>\n",
       "  <tbody>\n",
       "    <tr>\n",
       "      <th>0</th>\n",
       "      <td>1</td>\n",
       "      <td>3</td>\n",
       "      <td>88.6</td>\n",
       "      <td>168.8</td>\n",
       "      <td>64.1</td>\n",
       "      <td>48.8</td>\n",
       "      <td>2548</td>\n",
       "      <td>130</td>\n",
       "      <td>3.47</td>\n",
       "      <td>2.68</td>\n",
       "      <td>...</td>\n",
       "      <td>0</td>\n",
       "      <td>0</td>\n",
       "      <td>0</td>\n",
       "      <td>0</td>\n",
       "      <td>0</td>\n",
       "      <td>0</td>\n",
       "      <td>0</td>\n",
       "      <td>1</td>\n",
       "      <td>0</td>\n",
       "      <td>0</td>\n",
       "    </tr>\n",
       "    <tr>\n",
       "      <th>1</th>\n",
       "      <td>2</td>\n",
       "      <td>3</td>\n",
       "      <td>88.6</td>\n",
       "      <td>168.8</td>\n",
       "      <td>64.1</td>\n",
       "      <td>48.8</td>\n",
       "      <td>2548</td>\n",
       "      <td>130</td>\n",
       "      <td>3.47</td>\n",
       "      <td>2.68</td>\n",
       "      <td>...</td>\n",
       "      <td>0</td>\n",
       "      <td>0</td>\n",
       "      <td>0</td>\n",
       "      <td>0</td>\n",
       "      <td>0</td>\n",
       "      <td>0</td>\n",
       "      <td>0</td>\n",
       "      <td>1</td>\n",
       "      <td>0</td>\n",
       "      <td>0</td>\n",
       "    </tr>\n",
       "    <tr>\n",
       "      <th>2</th>\n",
       "      <td>3</td>\n",
       "      <td>1</td>\n",
       "      <td>94.5</td>\n",
       "      <td>171.2</td>\n",
       "      <td>65.5</td>\n",
       "      <td>52.4</td>\n",
       "      <td>2823</td>\n",
       "      <td>152</td>\n",
       "      <td>2.68</td>\n",
       "      <td>3.47</td>\n",
       "      <td>...</td>\n",
       "      <td>0</td>\n",
       "      <td>0</td>\n",
       "      <td>0</td>\n",
       "      <td>0</td>\n",
       "      <td>0</td>\n",
       "      <td>0</td>\n",
       "      <td>0</td>\n",
       "      <td>1</td>\n",
       "      <td>0</td>\n",
       "      <td>0</td>\n",
       "    </tr>\n",
       "    <tr>\n",
       "      <th>3</th>\n",
       "      <td>4</td>\n",
       "      <td>2</td>\n",
       "      <td>99.8</td>\n",
       "      <td>176.6</td>\n",
       "      <td>66.2</td>\n",
       "      <td>54.3</td>\n",
       "      <td>2337</td>\n",
       "      <td>109</td>\n",
       "      <td>3.19</td>\n",
       "      <td>3.40</td>\n",
       "      <td>...</td>\n",
       "      <td>0</td>\n",
       "      <td>0</td>\n",
       "      <td>0</td>\n",
       "      <td>0</td>\n",
       "      <td>0</td>\n",
       "      <td>0</td>\n",
       "      <td>0</td>\n",
       "      <td>1</td>\n",
       "      <td>0</td>\n",
       "      <td>0</td>\n",
       "    </tr>\n",
       "    <tr>\n",
       "      <th>4</th>\n",
       "      <td>5</td>\n",
       "      <td>2</td>\n",
       "      <td>99.4</td>\n",
       "      <td>176.6</td>\n",
       "      <td>66.4</td>\n",
       "      <td>54.3</td>\n",
       "      <td>2824</td>\n",
       "      <td>136</td>\n",
       "      <td>3.19</td>\n",
       "      <td>3.40</td>\n",
       "      <td>...</td>\n",
       "      <td>0</td>\n",
       "      <td>0</td>\n",
       "      <td>0</td>\n",
       "      <td>0</td>\n",
       "      <td>0</td>\n",
       "      <td>0</td>\n",
       "      <td>0</td>\n",
       "      <td>1</td>\n",
       "      <td>0</td>\n",
       "      <td>0</td>\n",
       "    </tr>\n",
       "  </tbody>\n",
       "</table>\n",
       "<p>5 rows × 191 columns</p>\n",
       "</div>"
      ],
      "text/plain": [
       "   car_ID  symboling  wheelbase  carlength  carwidth  carheight  curbweight  \\\n",
       "0       1          3       88.6      168.8      64.1       48.8        2548   \n",
       "1       2          3       88.6      168.8      64.1       48.8        2548   \n",
       "2       3          1       94.5      171.2      65.5       52.4        2823   \n",
       "3       4          2       99.8      176.6      66.2       54.3        2337   \n",
       "4       5          2       99.4      176.6      66.4       54.3        2824   \n",
       "\n",
       "   enginesize  boreratio  stroke  ...  cylindernumber_three  \\\n",
       "0         130       3.47    2.68  ...                     0   \n",
       "1         130       3.47    2.68  ...                     0   \n",
       "2         152       2.68    3.47  ...                     0   \n",
       "3         109       3.19    3.40  ...                     0   \n",
       "4         136       3.19    3.40  ...                     0   \n",
       "\n",
       "   cylindernumber_twelve  cylindernumber_two  fuelsystem_2bbl  \\\n",
       "0                      0                   0                0   \n",
       "1                      0                   0                0   \n",
       "2                      0                   0                0   \n",
       "3                      0                   0                0   \n",
       "4                      0                   0                0   \n",
       "\n",
       "   fuelsystem_4bbl  fuelsystem_idi  fuelsystem_mfi  fuelsystem_mpfi  \\\n",
       "0                0               0               0                1   \n",
       "1                0               0               0                1   \n",
       "2                0               0               0                1   \n",
       "3                0               0               0                1   \n",
       "4                0               0               0                1   \n",
       "\n",
       "   fuelsystem_spdi  fuelsystem_spfi  \n",
       "0                0                0  \n",
       "1                0                0  \n",
       "2                0                0  \n",
       "3                0                0  \n",
       "4                0                0  \n",
       "\n",
       "[5 rows x 191 columns]"
      ]
     },
     "execution_count": 5,
     "metadata": {},
     "output_type": "execute_result"
    }
   ],
   "source": [
    "df = pd.get_dummies(df, drop_first=True) \n",
    " # Remove the first category to avoid collinearity. Original variables are dropped\n",
    "print(df.shape)\n",
    "df.head()"
   ]
  },
  {
   "cell_type": "code",
   "execution_count": 6,
   "id": "c6a5931c-621a-41a2-b53f-79e757093fce",
   "metadata": {},
   "outputs": [
    {
     "name": "stdout",
     "output_type": "stream",
     "text": [
      "1.7776781560914454\n"
     ]
    },
    {
     "data": {
      "text/plain": [
       "<AxesSubplot:>"
      ]
     },
     "execution_count": 6,
     "metadata": {},
     "output_type": "execute_result"
    },
    {
     "data": {
      "image/png": "[encoded data removed]",
      "text/plain": [
       "<Figure size 640x480 with 1 Axes>"
      ]
     },
     "metadata": {},
     "output_type": "display_data"
    }
   ],
   "source": [
    "print(df.price.skew())  \n",
    "df.price.hist()  # skewed to right (posive skew)"
   ]
  },
  {
   "cell_type": "code",
   "execution_count": 7,
   "id": "fdf6c678-89df-4bd7-938f-25c5037a997a",
   "metadata": {},
   "outputs": [
    {
     "name": "stdout",
     "output_type": "stream",
     "text": [
      "0.672888533977329\n"
     ]
    },
    {
     "data": {
      "text/plain": [
       "<AxesSubplot:>"
      ]
     },
     "execution_count": 7,
     "metadata": {},
     "output_type": "execute_result"
    },
    {
     "data": {
      "image/png": "[encoded data removed]",
      "text/plain": [
       "<Figure size 640x480 with 1 Axes>"
      ]
     },
     "metadata": {},
     "output_type": "display_data"
    }
   ],
   "source": [
    "df['lnprice'] = np.log(df.price) \n",
    " # np.log1p: change 0 to 1 and apply log if there are zero values\n",
    "print(df.lnprice.skew())\n",
    "df.lnprice.hist()"
   ]
  },
  {
   "cell_type": "code",
   "execution_count": 8,
   "id": "6c391f6e-a765-48f5-94b4-3ad7fb807d78",
   "metadata": {},
   "outputs": [],
   "source": [
    "df=df.drop('price', axis=1) \n",
    "y = df.lnprice\n",
    "x = df.drop('lnprice', axis=1) "
   ]
  },
  {
   "cell_type": "code",
   "execution_count": 37,
   "id": "25c3ad13-8cf7-4365-8860-2a7f136bea4b",
   "metadata": {},
   "outputs": [
    {
     "data": {
      "text/plain": [
       "array([1.82720399, 0.48150571, 0.45567823, 0.48418496, 5.31956988])"
      ]
     },
     "execution_count": 37,
     "metadata": {},
     "output_type": "execute_result"
    }
   ],
   "source": [
    "m1 = LinearRegression()\n",
    "mse1 = -(model_selection.cross_val_score(m1, x, y, scoring='neg_mean_squared_error'))\n",
    "mse1"
   ]
  },
  {
   "cell_type": "markdown",
   "id": "381268c2-64f6-48bc-8db9-330aae48e809",
   "metadata": {},
   "source": [
    "## 2.\tDefine y and x. Run an OLS model using 5-fold cross validation (without standardization). Report the average MSE."
   ]
  },
  {
   "cell_type": "code",
   "execution_count": 46,
   "id": "2b68c5a9-4319-4fde-ac36-2dc164df9a0a",
   "metadata": {
    "tags": []
   },
   "outputs": [
    {
     "data": {
      "text/plain": [
       "1.7136285529798503"
      ]
     },
     "execution_count": 46,
     "metadata": {},
     "output_type": "execute_result"
    }
   ],
   "source": [
    "AVmse1 = np.mean(mse1)\n",
    "AVmse1"
   ]
  },
  {
   "cell_type": "markdown",
   "id": "04f5944c-31a3-4027-83f5-85b8ec1929f1",
   "metadata": {},
   "source": [
    "## 3.\t(Use standardized predictors) Run ridge regression for a proper range of the shrinkage parameters (lambda or alpha). Plot the estimated coefficients as a function of the shrinkage parameters."
   ]
  },
  {
   "cell_type": "code",
   "execution_count": 39,
   "id": "4c1a8428-be09-473f-bedd-8f45dd816fee",
   "metadata": {},
   "outputs": [
    {
     "data": {
      "text/plain": [
       "(20, 190)"
      ]
     },
     "execution_count": 39,
     "metadata": {},
     "output_type": "execute_result"
    }
   ],
   "source": [
    "x1 = StandardScaler().fit_transform(x)\n",
    "a = arange(1, 200, 10) \n",
    "m2 = Ridge()\n",
    "coef = []\n",
    "for i in a:\n",
    "    m2.set_params(alpha = i).fit(x1, y)\n",
    "    coef.append(m2.coef_)\n",
    "np.shape(coef)"
   ]
  },
  {
   "cell_type": "code",
   "execution_count": 40,
   "id": "d19e891c-c7a9-4548-8c3d-5b099c237fa0",
   "metadata": {},
   "outputs": [
    {
     "data": {
      "text/plain": [
       "Text(0, 0.5, 'Ridge coefficient')"
      ]
     },
     "execution_count": 40,
     "metadata": {},
     "output_type": "execute_result"
    },
    {
     "data": {
      "image/png": "[encoded data removed]",
      "text/plain": [
       "<Figure size 640x480 with 1 Axes>"
      ]
     },
     "metadata": {},
     "output_type": "display_data"
    }
   ],
   "source": [
    "plt.plot(a, coef)\n",
    "plt.xlabel('Alpha')\n",
    "plt.ylabel('Ridge coefficient')"
   ]
  },
  {
   "cell_type": "markdown",
   "id": "707ea355-e7cd-49f7-ab55-5e1ef9a38d7d",
   "metadata": {},
   "source": [
    "## 4.\t(Use standardized predictors) Run ridge regression using leave-one-out cross validation for the range of the shrinkage parameters in Q3. Report the average MSE."
   ]
  },
  {
   "cell_type": "code",
   "execution_count": 43,
   "id": "705fe0c8-a614-426b-b7f9-f5d4ddda6283",
   "metadata": {},
   "outputs": [
    {
     "data": {
      "text/plain": [
       "0.029202608812755444"
      ]
     },
     "execution_count": 43,
     "metadata": {},
     "output_type": "execute_result"
    }
   ],
   "source": [
    "m2 = RidgeCV(alphas=a, store_cv_values=True).fit(x1,y)\n",
    "mse2 = -m2.best_score_\n",
    "mse2"
   ]
  },
  {
   "cell_type": "code",
   "execution_count": 44,
   "id": "4de7b256-f1be-4d5b-8423-c7941d8aa8f6",
   "metadata": {},
   "outputs": [
    {
     "data": {
      "text/plain": [
       "(205, 20)"
      ]
     },
     "execution_count": 44,
     "metadata": {},
     "output_type": "execute_result"
    }
   ],
   "source": [
    "m2.cv_values_.shape "
   ]
  },
  {
   "cell_type": "code",
   "execution_count": 45,
   "id": "0e0c311d-85f0-48f8-b460-9098ee1f21a2",
   "metadata": {},
   "outputs": [
    {
     "data": {
      "text/plain": [
       "0.029202608812755444"
      ]
     },
     "execution_count": 45,
     "metadata": {},
     "output_type": "execute_result"
    }
   ],
   "source": [
    "AVmse2 = np.mean(mse2)\n",
    "AVmse2"
   ]
  },
  {
   "cell_type": "markdown",
   "id": "8f12bc61-c32b-44d2-87dd-3a674badaba9",
   "metadata": {},
   "source": [
    "## 5.\t(Use standardized predictors) Run lasso regression for a proper range of the shrinkage parameters (lambda or alpha). Plot the estimated coefficients as a function of the shrinkage parameters."
   ]
  },
  {
   "cell_type": "code",
   "execution_count": 47,
   "id": "dda210b5-18b1-479d-8fcb-7e95e4401a4f",
   "metadata": {},
   "outputs": [],
   "source": [
    "a1 = arange(0.0001, 0.3, 0.001)\n",
    "m3 = Lasso(max_iter=100000)\n",
    "coef = []\n",
    "for i in a1:\n",
    "    m3.set_params(alpha = i).fit(x1, y)\n",
    "    coef.append(m3.coef_)"
   ]
  },
  {
   "cell_type": "code",
   "execution_count": 48,
   "id": "ee4aefdf-90ac-43d0-8e18-36b5de79cb70",
   "metadata": {},
   "outputs": [
    {
     "data": {
      "text/plain": [
       "Text(0, 0.5, 'Lasso Coefficient')"
      ]
     },
     "execution_count": 48,
     "metadata": {},
     "output_type": "execute_result"
    },
    {
     "data": {
      "image/png": "[encoded data removed]",
      "text/plain": [
       "<Figure size 640x480 with 1 Axes>"
      ]
     },
     "metadata": {},
     "output_type": "display_data"
    }
   ],
   "source": [
    "plt.plot(a1, coef)\n",
    "plt.xlabel('Alpha')\n",
    "plt.ylabel('Lasso Coefficient')"
   ]
  },
  {
   "cell_type": "code",
   "execution_count": 49,
   "id": "d23ecb98-5a6e-4e94-8fa1-ded837ee0929",
   "metadata": {},
   "outputs": [],
   "source": [
    "m3 = LassoCV().fit(x1,y)\n"
   ]
  },
  {
   "cell_type": "code",
   "execution_count": 50,
   "id": "89547b05-1a67-4fed-9a5d-a6221e32474c",
   "metadata": {},
   "outputs": [
    {
     "name": "stdout",
     "output_type": "stream",
     "text": [
      "(100,)\n"
     ]
    },
    {
     "data": {
      "text/plain": [
       "array([0.44791324, 0.41772538, 0.38957209, 0.36331624, 0.33882994,\n",
       "       0.31599393, 0.294697  , 0.27483541, 0.25631242, 0.23903782,\n",
       "       0.22292747, 0.20790291, 0.19389095, 0.18082335, 0.16863646,\n",
       "       0.15727093, 0.14667139, 0.13678623, 0.1275673 , 0.11896969,\n",
       "       0.11095153, 0.10347377, 0.09649998, 0.08999621, 0.08393076,\n",
       "       0.07827411, 0.0729987 , 0.06807883, 0.06349054, 0.05921149,\n",
       "       0.05522084, 0.05149914, 0.04802827, 0.04479132, 0.04177254,\n",
       "       0.03895721, 0.03633162, 0.03388299, 0.03159939, 0.0294697 ,\n",
       "       0.02748354, 0.02563124, 0.02390378, 0.02229275, 0.02079029,\n",
       "       0.01938909, 0.01808233, 0.01686365, 0.01572709, 0.01466714,\n",
       "       0.01367862, 0.01275673, 0.01189697, 0.01109515, 0.01034738,\n",
       "       0.00965   , 0.00899962, 0.00839308, 0.00782741, 0.00729987,\n",
       "       0.00680788, 0.00634905, 0.00592115, 0.00552208, 0.00514991,\n",
       "       0.00480283, 0.00447913, 0.00417725, 0.00389572, 0.00363316,\n",
       "       0.0033883 , 0.00315994, 0.00294697, 0.00274835, 0.00256312,\n",
       "       0.00239038, 0.00222927, 0.00207903, 0.00193891, 0.00180823,\n",
       "       0.00168636, 0.00157271, 0.00146671, 0.00136786, 0.00127567,\n",
       "       0.0011897 , 0.00110952, 0.00103474, 0.000965  , 0.00089996,\n",
       "       0.00083931, 0.00078274, 0.00072999, 0.00068079, 0.00063491,\n",
       "       0.00059211, 0.00055221, 0.00051499, 0.00048028, 0.00044791])"
      ]
     },
     "execution_count": 50,
     "metadata": {},
     "output_type": "execute_result"
    }
   ],
   "source": [
    "print(m3.alphas_.shape)\n",
    "m3.alphas_ "
   ]
  },
  {
   "cell_type": "code",
   "execution_count": 51,
   "id": "3cbaef6a-2809-4739-bcf0-db3cdc220937",
   "metadata": {},
   "outputs": [
    {
     "data": {
      "text/plain": [
       "0.009649998139996604"
      ]
     },
     "execution_count": 51,
     "metadata": {},
     "output_type": "execute_result"
    }
   ],
   "source": [
    "m3.alpha_ "
   ]
  },
  {
   "cell_type": "code",
   "execution_count": 52,
   "id": "0c4f39b2-edf7-43e1-860d-9893cfe0d8d5",
   "metadata": {},
   "outputs": [
    {
     "name": "stdout",
     "output_type": "stream",
     "text": [
      "(100, 5)\n"
     ]
    },
    {
     "data": {
      "text/plain": [
       "array([[0.31797173, 0.43580711, 0.14773105, 0.2444446 , 0.08459581],\n",
       "       [0.304201  , 0.43580711, 0.12736785, 0.23058531, 0.07527626],\n",
       "       [0.27661185, 0.43580711, 0.11107185, 0.21825033, 0.06720445],\n",
       "       [0.25240489, 0.43225801, 0.09700562, 0.20726003, 0.06015391],\n",
       "       [0.23115384, 0.40114586, 0.08513477, 0.19745694, 0.05419494],\n",
       "       [0.21125279, 0.37367272, 0.07514644, 0.18870287, 0.04914555],\n",
       "       [0.19353021, 0.34939246, 0.0667711 , 0.18087655, 0.04487996],\n",
       "       [0.17793802, 0.31737832, 0.05978043, 0.17387147, 0.04128537],\n",
       "       [0.16421026, 0.28393307, 0.05397154, 0.16759399, 0.03826895],\n",
       "       [0.15211532, 0.25471249, 0.04917482, 0.16196182, 0.03574552],\n",
       "       [0.14144938, 0.22917142, 0.04524009, 0.15690252, 0.0336453 ],\n",
       "       [0.13203925, 0.20684166, 0.04203759, 0.15235229, 0.03190805],\n",
       "       [0.12372889, 0.18731527, 0.03945851, 0.14825494, 0.03047806],\n",
       "       [0.11638369, 0.17022982, 0.03740866, 0.1445609 , 0.02931237],\n",
       "       [0.10988515, 0.15527625, 0.03580422, 0.14122642, 0.02836868],\n",
       "       [0.10413619, 0.14218414, 0.03455578, 0.13821287, 0.02761459],\n",
       "       [0.09904849, 0.13095848, 0.03361722, 0.1352756 , 0.02698038],\n",
       "       [0.09447624, 0.121725  , 0.03294058, 0.1311474 , 0.02673764],\n",
       "       [0.0904129 , 0.11390249, 0.03248277, 0.12739827, 0.02671923],\n",
       "       [0.08685246, 0.10707894, 0.03220645, 0.12389549, 0.02691083],\n",
       "       [0.08379678, 0.10111235, 0.03208013, 0.12009682, 0.02743308],\n",
       "       [0.0818879 , 0.09584345, 0.03205697, 0.11659338, 0.02806433],\n",
       "       [0.08034762, 0.09117655, 0.03202823, 0.11293602, 0.02906419],\n",
       "       [0.07912001, 0.08698656, 0.03184083, 0.10938888, 0.0301953 ],\n",
       "       [0.07800738, 0.08204674, 0.03173542, 0.10590542, 0.0314252 ],\n",
       "       [0.07672494, 0.07768714, 0.03124125, 0.10235174, 0.03272445],\n",
       "       [0.07563413, 0.07383677, 0.03053504, 0.09880747, 0.03372378],\n",
       "       [0.07469805, 0.07043337, 0.02997962, 0.09561185, 0.03454228],\n",
       "       [0.07389463, 0.06728681, 0.0295577 , 0.09272407, 0.03537815],\n",
       "       [0.07304141, 0.06422116, 0.02925138, 0.09011282, 0.03622019],\n",
       "       [0.07200228, 0.06149866, 0.02903244, 0.08773764, 0.03706054],\n",
       "       [0.07108222, 0.05907825, 0.02888124, 0.08516368, 0.03798372],\n",
       "       [0.07027234, 0.05703073, 0.028768  , 0.08293492, 0.03891627],\n",
       "       [0.06955882, 0.0553109 , 0.02872565, 0.08092835, 0.0398487 ],\n",
       "       [0.06920557, 0.0537138 , 0.02874105, 0.07916015, 0.04101984],\n",
       "       [0.06893006, 0.05227371, 0.02879606, 0.07766215, 0.04211365],\n",
       "       [0.06870189, 0.05090871, 0.02888256, 0.07616035, 0.0431573 ],\n",
       "       [0.06851159, 0.04958687, 0.02904189, 0.07497509, 0.04401658],\n",
       "       [0.06835903, 0.04849562, 0.02921964, 0.07416722, 0.0444284 ],\n",
       "       [0.06833183, 0.04737699, 0.02938046, 0.07354253, 0.04476382],\n",
       "       [0.06848039, 0.04663205, 0.02956052, 0.07316339, 0.04554168],\n",
       "       [0.06877104, 0.04604418, 0.02973748, 0.07269679, 0.04613149],\n",
       "       [0.06915295, 0.04562222, 0.02977715, 0.07264171, 0.04678907],\n",
       "       [0.06954998, 0.04524197, 0.02975163, 0.07265698, 0.04697973],\n",
       "       [0.07024638, 0.04464088, 0.02968593, 0.07255551, 0.04704198],\n",
       "       [0.07086954, 0.04398553, 0.0296701 , 0.07230287, 0.04711302],\n",
       "       [0.07114714, 0.04335754, 0.02967399, 0.07216599, 0.0472442 ],\n",
       "       [0.07144029, 0.04279323, 0.02966352, 0.07206099, 0.04745442],\n",
       "       [0.07184592, 0.04229192, 0.02964278, 0.07213437, 0.04765876],\n",
       "       [0.07247344, 0.04188244, 0.02968018, 0.0717917 , 0.04774073],\n",
       "       [0.07307205, 0.04162723, 0.02974549, 0.07139424, 0.04761981],\n",
       "       [0.07339785, 0.04144024, 0.02978419, 0.07116999, 0.0471799 ],\n",
       "       [0.0736388 , 0.04136977, 0.02984397, 0.07084229, 0.04685756],\n",
       "       [0.07419952, 0.0413893 , 0.0298182 , 0.07046961, 0.04648996],\n",
       "       [0.07459403, 0.04128246, 0.02976551, 0.06991472, 0.04606897],\n",
       "       [0.07514059, 0.04132   , 0.02972951, 0.06995916, 0.0454599 ],\n",
       "       [0.07566862, 0.04141575, 0.02971555, 0.0700369 , 0.0449088 ],\n",
       "       [0.07613569, 0.04145039, 0.02982634, 0.07025471, 0.04468997],\n",
       "       [0.07663751, 0.04149476, 0.03003826, 0.07067044, 0.04462281],\n",
       "       [0.07718712, 0.04151726, 0.03030076, 0.07118045, 0.0448106 ],\n",
       "       [0.07787108, 0.04174554, 0.03072886, 0.07151586, 0.04496661],\n",
       "       [0.07854111, 0.04216361, 0.03121515, 0.07144545, 0.04510941],\n",
       "       [0.07918789, 0.042538  , 0.03169033, 0.07142912, 0.04517369],\n",
       "       [0.07988827, 0.04291407, 0.03208333, 0.07166871, 0.04524077],\n",
       "       [0.08031041, 0.04327776, 0.03239427, 0.07219641, 0.04554766],\n",
       "       [0.08045785, 0.04363714, 0.03273273, 0.07293679, 0.04602885],\n",
       "       [0.08056064, 0.04402526, 0.03308138, 0.07371098, 0.04665066],\n",
       "       [0.08064697, 0.04454795, 0.03350863, 0.0744979 , 0.04702754],\n",
       "       [0.08082462, 0.04507849, 0.03394804, 0.07523495, 0.04713689],\n",
       "       [0.08085551, 0.04573798, 0.0343772 , 0.07587505, 0.04675361],\n",
       "       [0.08076257, 0.04635482, 0.03476668, 0.07651135, 0.04589358],\n",
       "       [0.08060227, 0.04656933, 0.03509916, 0.07708753, 0.04515692],\n",
       "       [0.08054021, 0.04666943, 0.03551979, 0.07764036, 0.04439975],\n",
       "       [0.08047794, 0.04670272, 0.03593493, 0.07813941, 0.04357332],\n",
       "       [0.08040935, 0.04681573, 0.03635268, 0.07863755, 0.0430557 ],\n",
       "       [0.08033004, 0.04719   , 0.03711765, 0.07912795, 0.04266362],\n",
       "       [0.080176  , 0.04747764, 0.03777435, 0.07948389, 0.04194182],\n",
       "       [0.08009114, 0.04774367, 0.03828387, 0.07965368, 0.0412936 ],\n",
       "       [0.08005954, 0.04783037, 0.03886537, 0.0795733 , 0.040761  ],\n",
       "       [0.08006771, 0.04770584, 0.03951081, 0.07937458, 0.04024082],\n",
       "       [0.08014518, 0.04735433, 0.04030849, 0.07912034, 0.03973141],\n",
       "       [0.08044817, 0.04685429, 0.04128912, 0.07886344, 0.03912104],\n",
       "       [0.08089064, 0.04633477, 0.04187131, 0.07864556, 0.03838915],\n",
       "       [0.08136998, 0.04600149, 0.04253483, 0.0784567 , 0.0377427 ],\n",
       "       [0.08201382, 0.04591183, 0.04314866, 0.07830208, 0.03705956],\n",
       "       [0.08272997, 0.04618999, 0.04418344, 0.07819823, 0.03655622],\n",
       "       [0.08335815, 0.04661686, 0.04525888, 0.07813777, 0.03620512],\n",
       "       [0.08388665, 0.04643687, 0.04638934, 0.07809744, 0.03588072],\n",
       "       [0.0843922 , 0.04632108, 0.04750359, 0.07805217, 0.0357018 ],\n",
       "       [0.08489225, 0.04599093, 0.04840295, 0.07804301, 0.03560672],\n",
       "       [0.08555881, 0.04568232, 0.04919516, 0.07831521, 0.03583597],\n",
       "       [0.08630808, 0.04584637, 0.05064161, 0.07878292, 0.03638916],\n",
       "       [0.08732571, 0.04652364, 0.05167657, 0.07956929, 0.03710936],\n",
       "       [0.08832124, 0.04750936, 0.05236174, 0.08039387, 0.03745675],\n",
       "       [0.08962434, 0.0482711 , 0.05274941, 0.08057481, 0.03770903],\n",
       "       [0.09096858, 0.04872935, 0.05308214, 0.08083297, 0.03786282],\n",
       "       [0.09191896, 0.04912919, 0.05392207, 0.08119781, 0.03794972],\n",
       "       [0.09298856, 0.0496072 , 0.05421669, 0.0823462 , 0.03821395],\n",
       "       [0.09425292, 0.04991862, 0.05443774, 0.08371931, 0.03840304],\n",
       "       [0.09576905, 0.05046771, 0.05677392, 0.08559286, 0.03856045]])"
      ]
     },
     "execution_count": 52,
     "metadata": {},
     "output_type": "execute_result"
    }
   ],
   "source": [
    "print(m3.mse_path_.shape)  \n",
    "m3.mse_path_ "
   ]
  },
  {
   "cell_type": "code",
   "execution_count": 53,
   "id": "79fa2318-3e21-4940-8043-68e44d471b92",
   "metadata": {},
   "outputs": [
    {
     "data": {
      "text/plain": [
       "100"
      ]
     },
     "execution_count": 53,
     "metadata": {},
     "output_type": "execute_result"
    }
   ],
   "source": [
    "alp=m3.alphas_ \n",
    "alp_list = alp.tolist()\n",
    "len(alp_list)"
   ]
  },
  {
   "cell_type": "code",
   "execution_count": 54,
   "id": "28ea0cd8-18cf-4e1b-b099-2d17ed926fc3",
   "metadata": {},
   "outputs": [
    {
     "data": {
      "text/plain": [
       "55"
      ]
     },
     "execution_count": 54,
     "metadata": {},
     "output_type": "execute_result"
    }
   ],
   "source": [
    "best_idx = alp_list.index(m3.alpha_) \n",
    "best_idx"
   ]
  },
  {
   "cell_type": "code",
   "execution_count": 55,
   "id": "f6447b6a-2d8a-48cb-a598-728f8d5eb715",
   "metadata": {},
   "outputs": [
    {
     "data": {
      "text/plain": [
       "array([0.07514059, 0.04132   , 0.02972951, 0.06995916, 0.0454599 ])"
      ]
     },
     "execution_count": 55,
     "metadata": {},
     "output_type": "execute_result"
    }
   ],
   "source": [
    "mse3=m3.mse_path_[best_idx]\n",
    "mse3"
   ]
  },
  {
   "cell_type": "code",
   "execution_count": 62,
   "id": "07c05379-20a0-468a-a135-431c02b3be13",
   "metadata": {},
   "outputs": [
    {
     "data": {
      "text/plain": [
       "0.05232183276764405"
      ]
     },
     "execution_count": 62,
     "metadata": {},
     "output_type": "execute_result"
    }
   ],
   "source": [
    "AVmse3 = np.mean(mse3)\n",
    "AVmse3"
   ]
  },
  {
   "cell_type": "markdown",
   "id": "4aeb8ae6-cbe3-46e5-88d6-f287a9650cbb",
   "metadata": {},
   "source": [
    "## 7.\tCalculate the percentage of non-zero coefficients from the lasso regression in Q6."
   ]
  },
  {
   "cell_type": "code",
   "execution_count": 63,
   "id": "8b7e290b-dde0-466a-ab7a-1bd70a848b7e",
   "metadata": {},
   "outputs": [
    {
     "name": "stdout",
     "output_type": "stream",
     "text": [
      "190\n"
     ]
    },
    {
     "data": {
      "text/plain": [
       "array([-2.43061105e-02,  0.00000000e+00,  0.00000000e+00,  2.42759823e-02,\n",
       "        6.96138051e-02,  0.00000000e+00,  2.26433357e-01,  0.00000000e+00,\n",
       "        0.00000000e+00, -0.00000000e+00,  0.00000000e+00,  6.70540673e-02,\n",
       "       -0.00000000e+00, -1.93102957e-04, -0.00000000e+00,  0.00000000e+00,\n",
       "        0.00000000e+00,  1.21163783e-02,  6.07668947e-03,  0.00000000e+00])"
      ]
     },
     "execution_count": 63,
     "metadata": {},
     "output_type": "execute_result"
    }
   ],
   "source": [
    "print(len(m3.coef_))\n",
    "m3.coef_[0:20]"
   ]
  },
  {
   "cell_type": "code",
   "execution_count": 64,
   "id": "84f94539-8127-4255-a422-13d5df7e0e43",
   "metadata": {},
   "outputs": [
    {
     "name": "stdout",
     "output_type": "stream",
     "text": [
      "<class 'numpy.ndarray'>\n"
     ]
    },
    {
     "data": {
      "text/plain": [
       "tuple"
      ]
     },
     "execution_count": 64,
     "metadata": {},
     "output_type": "execute_result"
    }
   ],
   "source": [
    "print(type(m3.coef_))\n",
    "type(m3.coef_.nonzero())"
   ]
  },
  {
   "cell_type": "code",
   "execution_count": 65,
   "id": "c5b1915c-e101-4882-a73d-c1279bcf1a93",
   "metadata": {},
   "outputs": [
    {
     "data": {
      "text/plain": [
       "61"
      ]
     },
     "execution_count": 65,
     "metadata": {},
     "output_type": "execute_result"
    }
   ],
   "source": [
    "len(m3.coef_.nonzero()[0])"
   ]
  },
  {
   "cell_type": "code",
   "execution_count": 66,
   "id": "328dcfb7-a783-4b39-89fd-b58b8f7a516d",
   "metadata": {},
   "outputs": [
    {
     "name": "stdout",
     "output_type": "stream",
     "text": [
      "Out of 190 coefficients, 61 are non-zero\n"
     ]
    }
   ],
   "source": [
    "print('Out of {} coefficients, {} are non-zero'.format(len(m3.coef_), len(m3.coef_.nonzero()[0])))"
   ]
  },
  {
   "cell_type": "markdown",
   "id": "9dd367b3-06f8-4066-b290-d2dd8d10a416",
   "metadata": {},
   "source": [
    "\n",
    "## 8.\tCompare MSEs from the three models: OLS, ridge regression with cross validation, lasso with cross validation.\n"
   ]
  },
  {
   "cell_type": "code",
   "execution_count": 73,
   "id": "1574a956-39db-4660-b25d-9c8377613c9a",
   "metadata": {},
   "outputs": [
    {
     "name": "stdout",
     "output_type": "stream",
     "text": [
      "1.7136285529798503 0.029202608812755444 0.05232183276764405\n"
     ]
    },
    {
     "data": {
      "text/plain": [
       "-0.44186571325891305"
      ]
     },
     "execution_count": 73,
     "metadata": {},
     "output_type": "execute_result"
    }
   ],
   "source": [
    "print(AVmse1, AVmse2, AVmse3)\n",
    "(AVmse2-AVmse3)/AVmse3  "
   ]
  },
  {
   "cell_type": "code",
   "execution_count": 74,
   "id": "07c20c3c-0a62-46ec-99f6-bc4773e83dd5",
   "metadata": {},
   "outputs": [
    {
     "data": {
      "text/plain": [
       "-0.9829586121438192"
      ]
     },
     "execution_count": 74,
     "metadata": {},
     "output_type": "execute_result"
    }
   ],
   "source": [
    "(AVmse2-AVmse1)/AVmse1 "
   ]
  },
  {
   "cell_type": "code",
   "execution_count": null,
   "id": "a23c016e-bf59-4fd6-973f-a4669658afb2",
   "metadata": {},
   "outputs": [],
   "source": []
  }
 ],
 "metadata": {
  "kernelspec": {
   "display_name": "Python 3 (ipykernel)",
   "language": "python",
   "name": "python3"
  },
  "language_info": {
   "codemirror_mode": {
    "name": "ipython",
    "version": 3
   },
   "file_extension": ".py",
   "mimetype": "text/x-python",
   "name": "python",
   "nbconvert_exporter": "python",
   "pygments_lexer": "ipython3",
   "version": "3.9.13"
  }
 },
 "nbformat": 4,
 "nbformat_minor": 5
}
